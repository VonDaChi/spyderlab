{
 "cells": [
  {
   "cell_type": "code",
   "execution_count": 1,
   "metadata": {},
   "outputs": [],
   "source": [
    "import urllib.request\n",
    "import urllib.error"
   ]
  },
  {
   "cell_type": "code",
   "execution_count": 2,
   "metadata": {},
   "outputs": [],
   "source": [
    "#urllib.urlopen的基本使用方式\n",
    "response = urllib.request.urlopen('http://python.org/')\n",
    "result = response.read().decode('utf-8')"
   ]
  },
  {
   "cell_type": "code",
   "execution_count": 3,
   "metadata": {},
   "outputs": [
    {
     "name": "stdout",
     "output_type": "stream",
     "text": [
      "请求成功通过\n"
     ]
    }
   ],
   "source": [
    "#带有试错和head的健壮代码\n",
    "try:\n",
    "    headers ={'User_Agent':'Mozilla/5.0 (Windows NT 10.0; Win64; x64) AppleWebKit/537.36 (KHTML, like Gecko) Chrome/69.0.3497.100 Safari/537.36'}\n",
    "    response = urllib.request.Request('http://python.org/', headers = headers)\n",
    "    html = urllib.request.urlopen(response)\n",
    "    result = html.read().decode('utf-8')\n",
    "except utllib.error.URLError as e:\n",
    "    if hasattr(e, 'reason'):\n",
    "        print('错误原因是' + str(e.reason))\n",
    "except urllib.error.HTTPError as e:\n",
    "    if hasattr(e, 'code'):\n",
    "        print('错误状态码是' + str(e.code))\n",
    "else:\n",
    "    print('请求成功通过')\n",
    "    "
   ]
  },
  {
   "cell_type": "code",
   "execution_count": null,
   "metadata": {},
   "outputs": [],
   "source": []
  }
 ],
 "metadata": {
  "kernelspec": {
   "display_name": "Python 3",
   "language": "python",
   "name": "python3"
  },
  "language_info": {
   "codemirror_mode": {
    "name": "ipython",
    "version": 3
   },
   "file_extension": ".py",
   "mimetype": "text/x-python",
   "name": "python",
   "nbconvert_exporter": "python",
   "pygments_lexer": "ipython3",
   "version": "3.7.0"
  }
 },
 "nbformat": 4,
 "nbformat_minor": 2
}
